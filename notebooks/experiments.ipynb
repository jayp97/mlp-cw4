{
    "cells": [
        {
            "cell_type": "markdown",
            "source": [
                "# Experiments with Real-to-Synthetic Ratios\n\n",
                "We'll train with different synthetic_ratios and evaluate each.",
            ],
            "metadata": {},
        },
        {
            "cell_type": "code",
            "source": [
                "from src.classification import train_efficientnetv2\n",
                "from src.evaluation import evaluate_model\n",
                "\n",
                "ratios = [0, 0.5, 1.0, 1.5, 2.0]\n",
                "for r in ratios:\n",
                '    ckpt_name = f"efficientnet_v2_synth_{r}.pth"\n',
                '    print(f"\\n=== Training with synthetic_ratio={r} ===")\n',
                "    train_efficientnetv2(\n",
                "        synthetic_ratio=r,\n",
                "        num_epochs=5,\n",
                "        batch_size=16,\n",
                "        learning_rate=1e-4,\n",
                "        checkpoint_name=ckpt_name\n",
                "    )\n",
                "\n",
                '    print(f"\\n=== Evaluating ratio={r} ===")\n',
                "    evaluate_model(ckpt_name)\n",
            ],
            "metadata": {},
            "execution_count": null,
            "outputs": [],
        },
    ],
    "metadata": {
        "kernelspec": {"name": "python3", "display_name": "Python 3"},
        "language_info": {"name": "python"},
    },
    "nbformat": 4,
    "nbformat_minor": 5,
}
