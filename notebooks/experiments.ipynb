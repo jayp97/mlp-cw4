{
  "cells": [
    {
      "cell_type": "markdown",
      "metadata": {},
      "source": [
        "# Experiments with Different Synthetic Ratios\n",
        "\n",
        "This notebook loops over different synthetic ratios (e.g., 0, 1, 3, 5)\n",
        "to compare classification performance."
      ]
    },
    {
      "cell_type": "code",
      "execution_count": 1,
      "metadata": {},
      "outputs": [
        {
          "ename": "ModuleNotFoundError",
          "evalue": "No module named 'src'",
          "output_type": "error",
          "traceback": [
            "\u001b[0;31m---------------------------------------------------------------------------\u001b[0m",
            "\u001b[0;31mModuleNotFoundError\u001b[0m                       Traceback (most recent call last)",
            "Cell \u001b[0;32mIn[1], line 1\u001b[0m\n\u001b[0;32m----> 1\u001b[0m \u001b[38;5;28;01mfrom\u001b[39;00m \u001b[38;5;21;01msrc\u001b[39;00m\u001b[38;5;21;01m.\u001b[39;00m\u001b[38;5;21;01mclassification\u001b[39;00m \u001b[38;5;28;01mimport\u001b[39;00m train_efficientnetv2\n\u001b[1;32m      2\u001b[0m \u001b[38;5;28;01mfrom\u001b[39;00m \u001b[38;5;21;01msrc\u001b[39;00m\u001b[38;5;21;01m.\u001b[39;00m\u001b[38;5;21;01mevaluation\u001b[39;00m \u001b[38;5;28;01mimport\u001b[39;00m evaluate_model\n\u001b[1;32m      4\u001b[0m ratios \u001b[38;5;241m=\u001b[39m [\u001b[38;5;241m0\u001b[39m, \u001b[38;5;241m1\u001b[39m, \u001b[38;5;241m3\u001b[39m, \u001b[38;5;241m5\u001b[39m]\n",
            "\u001b[0;31mModuleNotFoundError\u001b[0m: No module named 'src'"
          ]
        }
      ],
      "source": [
        "from src.classification import train_efficientnetv2\n",
        "from src.evaluation import evaluate_model\n",
        "\n",
        "ratios = [0, 1, 3, 5]\n",
        "for r in ratios:\n",
        "    print(f\"\\n=== Training with synthetic_ratio={r} ===\")\n",
        "    ckpt = f\"efficientnet_v2_synth_{r}.pth\"\n",
        "    train_efficientnetv2(\n",
        "        synthetic_ratio=r,\n",
        "        num_epochs=3,  # shorter for testing\n",
        "        batch_size=16,\n",
        "        learning_rate=1e-4,\n",
        "        checkpoint_name=ckpt\n",
        "    )\n",
        "\n",
        "    print(f\"\\n=== Evaluating ratio {r} ===\")\n",
        "    evaluate_model(ckpt)\n"
      ]
    }
  ],
  "metadata": {
    "kernelspec": {
      "display_name": "mlp-cw4",
      "language": "python",
      "name": "python3"
    },
    "language_info": {
      "codemirror_mode": {
        "name": "ipython",
        "version": 3
      },
      "file_extension": ".py",
      "mimetype": "text/x-python",
      "name": "python",
      "nbconvert_exporter": "python",
      "pygments_lexer": "ipython3",
      "version": "3.10.13"
    }
  },
  "nbformat": 4,
  "nbformat_minor": 5
}
