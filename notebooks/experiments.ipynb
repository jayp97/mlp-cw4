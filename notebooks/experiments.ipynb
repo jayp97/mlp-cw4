{
  "cells": [
    {
      "cell_type": "markdown",
      "source": [
        "# Experiments with Different Synthetic Ratios\n\n",
        "This notebook loops over different synthetic ratios (e.g., 0, 1, 3, 5)\n",
        "to compare classification performance."
      ],
      "metadata": {}
    },
    {
      "cell_type": "code",
      "source": [
        "from src.classification import train_efficientnetv2\n",
        "from src.evaluation import evaluate_model\n",
        "\n",
        "ratios = [0, 1, 3, 5]\n",
        "for r in ratios:\n",
        "    print(f\"\\n=== Training with synthetic_ratio={r} ===\")\n",
        "    ckpt = f\"efficientnet_v2_synth_{r}.pth\"\n",
        "    train_efficientnetv2(\n",
        "        synthetic_ratio=r,\n",
        "        num_epochs=3,  # shorter for testing\n",
        "        batch_size=16,\n",
        "        learning_rate=1e-4,\n",
        "        checkpoint_name=ckpt\n",
        "    )\n",
        "\n",
        "    print(f\"\\n=== Evaluating ratio {r} ===\")\n",
        "    evaluate_model(ckpt)\n"
      ],
      "metadata": {},
      "execution_count": null,
      "outputs": []
    }
  ],
  "metadata": {
    "kernelspec": {
      "name": "python3",
      "display_name": "Python 3"
    },
    "language_info": {
      "name": "python"
    }
  },
  "nbformat": 4,
  "nbformat_minor": 5
}
