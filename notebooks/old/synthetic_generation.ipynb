{
  "cells": [
    {
      "cell_type": "markdown",
      "metadata": {},
      "source": [
        "# Synthetic Image Generation\n",
        "\n",
        "This notebook demonstrates how to generate synthetic images of dermatofibroma using Stable Diffusion."
      ]
    },
    {
      "cell_type": "code",
      "execution_count": null,
      "metadata": {},
      "outputs": [],
      "source": [
        "from src.stable_diffusion_generation import generate_synthetic_dermatofibroma\n",
        "\n",
        "# Example usage to generate 50 images\n",
        "generate_synthetic_dermatofibroma(num_images=10, prompt=\"Dermatofibroma lesion, dermoscopy image\")"
      ]
    }
  ],
  "metadata": {
    "kernelspec": {
      "display_name": "mlp-cw4",
      "language": "python",
      "name": "python3"
    },
    "language_info": {
      "name": "python",
      "version": "3.10.13"
    }
  },
  "nbformat": 4,
  "nbformat_minor": 5
}
