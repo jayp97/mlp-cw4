{
  "cells": [
    {
      "cell_type": "markdown",
      "source": [
        "# Classification Training\n\n",
        "This notebook trains an EfficientNetV2-L model on the processed images,\n",
        "optionally with synthetic dermatofibroma images included."
      ],
      "metadata": {}
    },
    {
      "cell_type": "code",
      "source": [
        "from src.classification import train_efficientnetv2\n",
        "\n",
        "# Example: Train with 3 synthetic images for each real df image.\n",
        "train_efficientnetv2(\n",
        "    synthetic_ratio=3,\n",
        "    num_epochs=5,\n",
        "    batch_size=16,\n",
        "    learning_rate=1e-4,\n",
        "    checkpoint_name=\"efficientnet_v2_synth_3.pth\"",
        ")"
      ],
      "metadata": {},
      "execution_count": null,
      "outputs": []
    }
  ],
  "metadata": {
    "kernelspec": {
      "name": "python3",
      "display_name": "Python 3"
    },
    "language_info": {
      "name": "python"
    }
  },
  "nbformat": 4,
  "nbformat_minor": 5
}
