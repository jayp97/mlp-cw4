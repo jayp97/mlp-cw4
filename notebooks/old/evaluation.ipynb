{
  "cells": [
    {
      "cell_type": "markdown",
      "source": [
        "# Evaluation\n\n",
        "Evaluate the trained EfficientNetV2-L model on the entire dataset to measure performance."
      ],
      "metadata": {}
    },
    {
      "cell_type": "code",
      "source": [
        "from src.evaluation import evaluate_model\n",
        "\n",
        "# Evaluate the model trained with synthetic_ratio=3\n",
        "evaluate_model(\"efficientnet_v2_synth_3.pth\")"
      ],
      "metadata": {},
      "execution_count": null,
      "outputs": []
    }
  ],
  "metadata": {
    "kernelspec": {
      "name": "python3",
      "display_name": "Python 3"
    },
    "language_info": {
      "name": "python"
    }
  },
  "nbformat": 4,
  "nbformat_minor": 5
}
