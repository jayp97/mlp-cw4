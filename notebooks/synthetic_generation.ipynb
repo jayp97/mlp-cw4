{
 "cells": [
  {
   "cell_type": "code",
   "execution_count": 1,
   "metadata": {},
   "outputs": [
    {
     "ename": "ModuleNotFoundError",
     "evalue": "No module named 'src'",
     "output_type": "error",
     "traceback": [
      "\u001b[0;31m---------------------------------------------------------------------------\u001b[0m",
      "\u001b[0;31mModuleNotFoundError\u001b[0m                       Traceback (most recent call last)",
      "Cell \u001b[0;32mIn[1], line 2\u001b[0m\n\u001b[1;32m      1\u001b[0m \u001b[38;5;66;03m# In Synthetic_Generation.ipynb\u001b[39;00m\n\u001b[0;32m----> 2\u001b[0m \u001b[38;5;28;01mfrom\u001b[39;00m \u001b[38;5;21;01msrc\u001b[39;00m \u001b[38;5;28;01mimport\u001b[39;00m stable_diffusion_generation\n\u001b[1;32m      4\u001b[0m \u001b[38;5;66;03m# (Optionally) Fine-tune and then generate synthetic images.\u001b[39;00m\n\u001b[1;32m      5\u001b[0m stable_diffusion_generation\u001b[38;5;241m.\u001b[39mgenerate_synthetic_dermatofibroma(num_images\u001b[38;5;241m=\u001b[39m\u001b[38;5;241m50\u001b[39m)\n",
      "\u001b[0;31mModuleNotFoundError\u001b[0m: No module named 'src'"
     ]
    }
   ],
   "source": [
    "# In Synthetic_Generation.ipynb\n",
    "from src import stable_diffusion_generation\n",
    "\n",
    "# (Optionally) Fine-tune and then generate synthetic images.\n",
    "stable_diffusion_generation.generate_synthetic_dermatofibroma(num_images=50)\n"
   ]
  }
 ],
 "metadata": {
  "kernelspec": {
   "display_name": "mlp-cw4",
   "language": "python",
   "name": "python3"
  },
  "language_info": {
   "codemirror_mode": {
    "name": "ipython",
    "version": 3
   },
   "file_extension": ".py",
   "mimetype": "text/x-python",
   "name": "python",
   "nbconvert_exporter": "python",
   "pygments_lexer": "ipython3",
   "version": "3.10.13"
  }
 },
 "nbformat": 4,
 "nbformat_minor": 2
}
